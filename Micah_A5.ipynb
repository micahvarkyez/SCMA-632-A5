{
  "cells": [
    {
      "cell_type": "code",
      "execution_count": null,
      "id": "c78f1ce0-ef77-455a-98e3-f726fb96ca7e",
      "metadata": {
        "id": "c78f1ce0-ef77-455a-98e3-f726fb96ca7e"
      },
      "outputs": [],
      "source": [
        "#import the necessary libraries\n",
        "import pandas as pd\n",
        "import numpy as np\n",
        "from scipy import stats\n",
        "import matplotlib.pyplot as plt\n",
        "import seaborn as sns\n",
        "import geopandas as gpd"
      ]
    },
    {
      "cell_type": "code",
      "execution_count": null,
      "id": "0e6d2d7a-fd80-45c1-a84d-5131cb96a3a4",
      "metadata": {
        "id": "0e6d2d7a-fd80-45c1-a84d-5131cb96a3a4"
      },
      "outputs": [],
      "source": [
        "#load the data\n",
        "data = pd.read_csv(\"/content/NSSO_68.csv\", low_memory=False)"
      ]
    },
    {
      "cell_type": "code",
      "execution_count": null,
      "id": "0799d3c2-bb2d-46d8-882d-f6c385cbdc33",
      "metadata": {
        "colab": {
          "base_uri": "https://localhost:8080/",
          "height": 444
        },
        "id": "0799d3c2-bb2d-46d8-882d-f6c385cbdc33",
        "outputId": "214e18c7-c0e1-4da7-ba02-68bf2bfa0f8a"
      },
      "outputs": [
        {
          "output_type": "display_data",
          "data": {
            "text/plain": [
              "        slno           grp  Round_Centre  FSU_number  Round  Schedule_Number  \\\n",
              "0          1  4.100000e+31             1       41000     68               10   \n",
              "1          2  4.100000e+31             1       41000     68               10   \n",
              "2          3  4.100000e+31             1       41000     68               10   \n",
              "3          4  4.100000e+31             1       41000     68               10   \n",
              "4          5  4.100000e+31             1       41000     68               10   \n",
              "...      ...           ...           ...         ...    ...              ...   \n",
              "15498  15499  4.430000e+31             1       44260     68               10   \n",
              "15499  15500  4.430000e+31             1       44260     68               10   \n",
              "15500  15501  4.430000e+31             1       44260     68               10   \n",
              "15501  15502  4.430000e+31             1       44261     68               10   \n",
              "15502  15503  4.430000e+31             1       44261     68               10   \n",
              "\n",
              "       Sample  Sector  state  State_Region  ...  pickle_v  sauce_jam_v  \\\n",
              "0           1       2     24           242  ...       0.0        0.000   \n",
              "1           1       2     24           242  ...       0.0        0.000   \n",
              "2           1       2     24           242  ...       0.0        0.000   \n",
              "3           1       2     24           242  ...       0.0        0.000   \n",
              "4           1       2     24           242  ...       0.0        0.000   \n",
              "...       ...     ...    ...           ...  ...       ...          ...   \n",
              "15498       1       2     16           161  ...       0.0        0.000   \n",
              "15499       1       2     16           161  ...       0.0        0.000   \n",
              "15500       1       2     16           161  ...       0.0        0.000   \n",
              "15501       1       2     16           161  ...       0.0        0.016   \n",
              "15502       1       2     16           161  ...       NaN          NaN   \n",
              "\n",
              "       Othrprocessed_v  Beveragestotal_v  foodtotal_v  foodtotal_q  state_1  \\\n",
              "0                  0.0          0.000000  1141.492400    30.942394      GUJ   \n",
              "1                  0.0         17.500000  1244.553500    29.286153      GUJ   \n",
              "2                  0.0          0.000000  1050.315400    31.527046      GUJ   \n",
              "3                  0.0         33.333333  1142.591667    27.834607      GUJ   \n",
              "4                  0.0         75.000000   945.249500    27.600713      GUJ   \n",
              "...                ...               ...          ...          ...      ...   \n",
              "15498              0.0          3.333333   392.686000    18.366902     TRPR   \n",
              "15499              0.0          2.500000   348.858125    17.237648     TRPR   \n",
              "15500              0.0          2.647059   292.321529    15.229551     TRPR   \n",
              "15501              0.0        136.682667  1777.097667    38.333900     TRPR   \n",
              "15502              NaN               NaN          NaN          NaN      NaN   \n",
              "\n",
              "       Region  fruits_df_tt_v      fv_tot  \n",
              "0         2.0       12.000000  154.180000  \n",
              "1         2.0      333.000000  484.950000  \n",
              "2         2.0       35.000000  214.840000  \n",
              "3         2.0      168.333333  302.300000  \n",
              "4         2.0       15.000000  148.000000  \n",
              "...       ...             ...         ...  \n",
              "15498     1.0        9.000000  102.666667  \n",
              "15499     1.0        4.375000   58.125000  \n",
              "15500     1.0        1.470588   34.958824  \n",
              "15501     1.0        2.666667  204.333333  \n",
              "15502     NaN             NaN         NaN  \n",
              "\n",
              "[15503 rows x 384 columns]"
            ],
            "text/html": [
              "\n",
              "  <div id=\"df-b9677ee8-b5a4-44b7-9cfe-d881ea29af23\" class=\"colab-df-container\">\n",
              "    <div>\n",
              "<style scoped>\n",
              "    .dataframe tbody tr th:only-of-type {\n",
              "        vertical-align: middle;\n",
              "    }\n",
              "\n",
              "    .dataframe tbody tr th {\n",
              "        vertical-align: top;\n",
              "    }\n",
              "\n",
              "    .dataframe thead th {\n",
              "        text-align: right;\n",
              "    }\n",
              "</style>\n",
              "<table border=\"1\" class=\"dataframe\">\n",
              "  <thead>\n",
              "    <tr style=\"text-align: right;\">\n",
              "      <th></th>\n",
              "      <th>slno</th>\n",
              "      <th>grp</th>\n",
              "      <th>Round_Centre</th>\n",
              "      <th>FSU_number</th>\n",
              "      <th>Round</th>\n",
              "      <th>Schedule_Number</th>\n",
              "      <th>Sample</th>\n",
              "      <th>Sector</th>\n",
              "      <th>state</th>\n",
              "      <th>State_Region</th>\n",
              "      <th>...</th>\n",
              "      <th>pickle_v</th>\n",
              "      <th>sauce_jam_v</th>\n",
              "      <th>Othrprocessed_v</th>\n",
              "      <th>Beveragestotal_v</th>\n",
              "      <th>foodtotal_v</th>\n",
              "      <th>foodtotal_q</th>\n",
              "      <th>state_1</th>\n",
              "      <th>Region</th>\n",
              "      <th>fruits_df_tt_v</th>\n",
              "      <th>fv_tot</th>\n",
              "    </tr>\n",
              "  </thead>\n",
              "  <tbody>\n",
              "    <tr>\n",
              "      <th>0</th>\n",
              "      <td>1</td>\n",
              "      <td>4.100000e+31</td>\n",
              "      <td>1</td>\n",
              "      <td>41000</td>\n",
              "      <td>68</td>\n",
              "      <td>10</td>\n",
              "      <td>1</td>\n",
              "      <td>2</td>\n",
              "      <td>24</td>\n",
              "      <td>242</td>\n",
              "      <td>...</td>\n",
              "      <td>0.0</td>\n",
              "      <td>0.000</td>\n",
              "      <td>0.0</td>\n",
              "      <td>0.000000</td>\n",
              "      <td>1141.492400</td>\n",
              "      <td>30.942394</td>\n",
              "      <td>GUJ</td>\n",
              "      <td>2.0</td>\n",
              "      <td>12.000000</td>\n",
              "      <td>154.180000</td>\n",
              "    </tr>\n",
              "    <tr>\n",
              "      <th>1</th>\n",
              "      <td>2</td>\n",
              "      <td>4.100000e+31</td>\n",
              "      <td>1</td>\n",
              "      <td>41000</td>\n",
              "      <td>68</td>\n",
              "      <td>10</td>\n",
              "      <td>1</td>\n",
              "      <td>2</td>\n",
              "      <td>24</td>\n",
              "      <td>242</td>\n",
              "      <td>...</td>\n",
              "      <td>0.0</td>\n",
              "      <td>0.000</td>\n",
              "      <td>0.0</td>\n",
              "      <td>17.500000</td>\n",
              "      <td>1244.553500</td>\n",
              "      <td>29.286153</td>\n",
              "      <td>GUJ</td>\n",
              "      <td>2.0</td>\n",
              "      <td>333.000000</td>\n",
              "      <td>484.950000</td>\n",
              "    </tr>\n",
              "    <tr>\n",
              "      <th>2</th>\n",
              "      <td>3</td>\n",
              "      <td>4.100000e+31</td>\n",
              "      <td>1</td>\n",
              "      <td>41000</td>\n",
              "      <td>68</td>\n",
              "      <td>10</td>\n",
              "      <td>1</td>\n",
              "      <td>2</td>\n",
              "      <td>24</td>\n",
              "      <td>242</td>\n",
              "      <td>...</td>\n",
              "      <td>0.0</td>\n",
              "      <td>0.000</td>\n",
              "      <td>0.0</td>\n",
              "      <td>0.000000</td>\n",
              "      <td>1050.315400</td>\n",
              "      <td>31.527046</td>\n",
              "      <td>GUJ</td>\n",
              "      <td>2.0</td>\n",
              "      <td>35.000000</td>\n",
              "      <td>214.840000</td>\n",
              "    </tr>\n",
              "    <tr>\n",
              "      <th>3</th>\n",
              "      <td>4</td>\n",
              "      <td>4.100000e+31</td>\n",
              "      <td>1</td>\n",
              "      <td>41000</td>\n",
              "      <td>68</td>\n",
              "      <td>10</td>\n",
              "      <td>1</td>\n",
              "      <td>2</td>\n",
              "      <td>24</td>\n",
              "      <td>242</td>\n",
              "      <td>...</td>\n",
              "      <td>0.0</td>\n",
              "      <td>0.000</td>\n",
              "      <td>0.0</td>\n",
              "      <td>33.333333</td>\n",
              "      <td>1142.591667</td>\n",
              "      <td>27.834607</td>\n",
              "      <td>GUJ</td>\n",
              "      <td>2.0</td>\n",
              "      <td>168.333333</td>\n",
              "      <td>302.300000</td>\n",
              "    </tr>\n",
              "    <tr>\n",
              "      <th>4</th>\n",
              "      <td>5</td>\n",
              "      <td>4.100000e+31</td>\n",
              "      <td>1</td>\n",
              "      <td>41000</td>\n",
              "      <td>68</td>\n",
              "      <td>10</td>\n",
              "      <td>1</td>\n",
              "      <td>2</td>\n",
              "      <td>24</td>\n",
              "      <td>242</td>\n",
              "      <td>...</td>\n",
              "      <td>0.0</td>\n",
              "      <td>0.000</td>\n",
              "      <td>0.0</td>\n",
              "      <td>75.000000</td>\n",
              "      <td>945.249500</td>\n",
              "      <td>27.600713</td>\n",
              "      <td>GUJ</td>\n",
              "      <td>2.0</td>\n",
              "      <td>15.000000</td>\n",
              "      <td>148.000000</td>\n",
              "    </tr>\n",
              "    <tr>\n",
              "      <th>...</th>\n",
              "      <td>...</td>\n",
              "      <td>...</td>\n",
              "      <td>...</td>\n",
              "      <td>...</td>\n",
              "      <td>...</td>\n",
              "      <td>...</td>\n",
              "      <td>...</td>\n",
              "      <td>...</td>\n",
              "      <td>...</td>\n",
              "      <td>...</td>\n",
              "      <td>...</td>\n",
              "      <td>...</td>\n",
              "      <td>...</td>\n",
              "      <td>...</td>\n",
              "      <td>...</td>\n",
              "      <td>...</td>\n",
              "      <td>...</td>\n",
              "      <td>...</td>\n",
              "      <td>...</td>\n",
              "      <td>...</td>\n",
              "      <td>...</td>\n",
              "    </tr>\n",
              "    <tr>\n",
              "      <th>15498</th>\n",
              "      <td>15499</td>\n",
              "      <td>4.430000e+31</td>\n",
              "      <td>1</td>\n",
              "      <td>44260</td>\n",
              "      <td>68</td>\n",
              "      <td>10</td>\n",
              "      <td>1</td>\n",
              "      <td>2</td>\n",
              "      <td>16</td>\n",
              "      <td>161</td>\n",
              "      <td>...</td>\n",
              "      <td>0.0</td>\n",
              "      <td>0.000</td>\n",
              "      <td>0.0</td>\n",
              "      <td>3.333333</td>\n",
              "      <td>392.686000</td>\n",
              "      <td>18.366902</td>\n",
              "      <td>TRPR</td>\n",
              "      <td>1.0</td>\n",
              "      <td>9.000000</td>\n",
              "      <td>102.666667</td>\n",
              "    </tr>\n",
              "    <tr>\n",
              "      <th>15499</th>\n",
              "      <td>15500</td>\n",
              "      <td>4.430000e+31</td>\n",
              "      <td>1</td>\n",
              "      <td>44260</td>\n",
              "      <td>68</td>\n",
              "      <td>10</td>\n",
              "      <td>1</td>\n",
              "      <td>2</td>\n",
              "      <td>16</td>\n",
              "      <td>161</td>\n",
              "      <td>...</td>\n",
              "      <td>0.0</td>\n",
              "      <td>0.000</td>\n",
              "      <td>0.0</td>\n",
              "      <td>2.500000</td>\n",
              "      <td>348.858125</td>\n",
              "      <td>17.237648</td>\n",
              "      <td>TRPR</td>\n",
              "      <td>1.0</td>\n",
              "      <td>4.375000</td>\n",
              "      <td>58.125000</td>\n",
              "    </tr>\n",
              "    <tr>\n",
              "      <th>15500</th>\n",
              "      <td>15501</td>\n",
              "      <td>4.430000e+31</td>\n",
              "      <td>1</td>\n",
              "      <td>44260</td>\n",
              "      <td>68</td>\n",
              "      <td>10</td>\n",
              "      <td>1</td>\n",
              "      <td>2</td>\n",
              "      <td>16</td>\n",
              "      <td>161</td>\n",
              "      <td>...</td>\n",
              "      <td>0.0</td>\n",
              "      <td>0.000</td>\n",
              "      <td>0.0</td>\n",
              "      <td>2.647059</td>\n",
              "      <td>292.321529</td>\n",
              "      <td>15.229551</td>\n",
              "      <td>TRPR</td>\n",
              "      <td>1.0</td>\n",
              "      <td>1.470588</td>\n",
              "      <td>34.958824</td>\n",
              "    </tr>\n",
              "    <tr>\n",
              "      <th>15501</th>\n",
              "      <td>15502</td>\n",
              "      <td>4.430000e+31</td>\n",
              "      <td>1</td>\n",
              "      <td>44261</td>\n",
              "      <td>68</td>\n",
              "      <td>10</td>\n",
              "      <td>1</td>\n",
              "      <td>2</td>\n",
              "      <td>16</td>\n",
              "      <td>161</td>\n",
              "      <td>...</td>\n",
              "      <td>0.0</td>\n",
              "      <td>0.016</td>\n",
              "      <td>0.0</td>\n",
              "      <td>136.682667</td>\n",
              "      <td>1777.097667</td>\n",
              "      <td>38.333900</td>\n",
              "      <td>TRPR</td>\n",
              "      <td>1.0</td>\n",
              "      <td>2.666667</td>\n",
              "      <td>204.333333</td>\n",
              "    </tr>\n",
              "    <tr>\n",
              "      <th>15502</th>\n",
              "      <td>15503</td>\n",
              "      <td>4.430000e+31</td>\n",
              "      <td>1</td>\n",
              "      <td>44261</td>\n",
              "      <td>68</td>\n",
              "      <td>10</td>\n",
              "      <td>1</td>\n",
              "      <td>2</td>\n",
              "      <td>16</td>\n",
              "      <td>161</td>\n",
              "      <td>...</td>\n",
              "      <td>NaN</td>\n",
              "      <td>NaN</td>\n",
              "      <td>NaN</td>\n",
              "      <td>NaN</td>\n",
              "      <td>NaN</td>\n",
              "      <td>NaN</td>\n",
              "      <td>NaN</td>\n",
              "      <td>NaN</td>\n",
              "      <td>NaN</td>\n",
              "      <td>NaN</td>\n",
              "    </tr>\n",
              "  </tbody>\n",
              "</table>\n",
              "<p>15503 rows × 384 columns</p>\n",
              "</div>\n",
              "    <div class=\"colab-df-buttons\">\n",
              "\n",
              "  <div class=\"colab-df-container\">\n",
              "    <button class=\"colab-df-convert\" onclick=\"convertToInteractive('df-b9677ee8-b5a4-44b7-9cfe-d881ea29af23')\"\n",
              "            title=\"Convert this dataframe to an interactive table.\"\n",
              "            style=\"display:none;\">\n",
              "\n",
              "  <svg xmlns=\"http://www.w3.org/2000/svg\" height=\"24px\" viewBox=\"0 -960 960 960\">\n",
              "    <path d=\"M120-120v-720h720v720H120Zm60-500h600v-160H180v160Zm220 220h160v-160H400v160Zm0 220h160v-160H400v160ZM180-400h160v-160H180v160Zm440 0h160v-160H620v160ZM180-180h160v-160H180v160Zm440 0h160v-160H620v160Z\"/>\n",
              "  </svg>\n",
              "    </button>\n",
              "\n",
              "  <style>\n",
              "    .colab-df-container {\n",
              "      display:flex;\n",
              "      gap: 12px;\n",
              "    }\n",
              "\n",
              "    .colab-df-convert {\n",
              "      background-color: #E8F0FE;\n",
              "      border: none;\n",
              "      border-radius: 50%;\n",
              "      cursor: pointer;\n",
              "      display: none;\n",
              "      fill: #1967D2;\n",
              "      height: 32px;\n",
              "      padding: 0 0 0 0;\n",
              "      width: 32px;\n",
              "    }\n",
              "\n",
              "    .colab-df-convert:hover {\n",
              "      background-color: #E2EBFA;\n",
              "      box-shadow: 0px 1px 2px rgba(60, 64, 67, 0.3), 0px 1px 3px 1px rgba(60, 64, 67, 0.15);\n",
              "      fill: #174EA6;\n",
              "    }\n",
              "\n",
              "    .colab-df-buttons div {\n",
              "      margin-bottom: 4px;\n",
              "    }\n",
              "\n",
              "    [theme=dark] .colab-df-convert {\n",
              "      background-color: #3B4455;\n",
              "      fill: #D2E3FC;\n",
              "    }\n",
              "\n",
              "    [theme=dark] .colab-df-convert:hover {\n",
              "      background-color: #434B5C;\n",
              "      box-shadow: 0px 1px 3px 1px rgba(0, 0, 0, 0.15);\n",
              "      filter: drop-shadow(0px 1px 2px rgba(0, 0, 0, 0.3));\n",
              "      fill: #FFFFFF;\n",
              "    }\n",
              "  </style>\n",
              "\n",
              "    <script>\n",
              "      const buttonEl =\n",
              "        document.querySelector('#df-b9677ee8-b5a4-44b7-9cfe-d881ea29af23 button.colab-df-convert');\n",
              "      buttonEl.style.display =\n",
              "        google.colab.kernel.accessAllowed ? 'block' : 'none';\n",
              "\n",
              "      async function convertToInteractive(key) {\n",
              "        const element = document.querySelector('#df-b9677ee8-b5a4-44b7-9cfe-d881ea29af23');\n",
              "        const dataTable =\n",
              "          await google.colab.kernel.invokeFunction('convertToInteractive',\n",
              "                                                    [key], {});\n",
              "        if (!dataTable) return;\n",
              "\n",
              "        const docLinkHtml = 'Like what you see? Visit the ' +\n",
              "          '<a target=\"_blank\" href=https://colab.research.google.com/notebooks/data_table.ipynb>data table notebook</a>'\n",
              "          + ' to learn more about interactive tables.';\n",
              "        element.innerHTML = '';\n",
              "        dataTable['output_type'] = 'display_data';\n",
              "        await google.colab.output.renderOutput(dataTable, element);\n",
              "        const docLink = document.createElement('div');\n",
              "        docLink.innerHTML = docLinkHtml;\n",
              "        element.appendChild(docLink);\n",
              "      }\n",
              "    </script>\n",
              "  </div>\n",
              "\n",
              "\n",
              "<div id=\"df-e8759cab-52c8-424d-92c7-739ab6ca9e16\">\n",
              "  <button class=\"colab-df-quickchart\" onclick=\"quickchart('df-e8759cab-52c8-424d-92c7-739ab6ca9e16')\"\n",
              "            title=\"Suggest charts\"\n",
              "            style=\"display:none;\">\n",
              "\n",
              "<svg xmlns=\"http://www.w3.org/2000/svg\" height=\"24px\"viewBox=\"0 0 24 24\"\n",
              "     width=\"24px\">\n",
              "    <g>\n",
              "        <path d=\"M19 3H5c-1.1 0-2 .9-2 2v14c0 1.1.9 2 2 2h14c1.1 0 2-.9 2-2V5c0-1.1-.9-2-2-2zM9 17H7v-7h2v7zm4 0h-2V7h2v10zm4 0h-2v-4h2v4z\"/>\n",
              "    </g>\n",
              "</svg>\n",
              "  </button>\n",
              "\n",
              "<style>\n",
              "  .colab-df-quickchart {\n",
              "      --bg-color: #E8F0FE;\n",
              "      --fill-color: #1967D2;\n",
              "      --hover-bg-color: #E2EBFA;\n",
              "      --hover-fill-color: #174EA6;\n",
              "      --disabled-fill-color: #AAA;\n",
              "      --disabled-bg-color: #DDD;\n",
              "  }\n",
              "\n",
              "  [theme=dark] .colab-df-quickchart {\n",
              "      --bg-color: #3B4455;\n",
              "      --fill-color: #D2E3FC;\n",
              "      --hover-bg-color: #434B5C;\n",
              "      --hover-fill-color: #FFFFFF;\n",
              "      --disabled-bg-color: #3B4455;\n",
              "      --disabled-fill-color: #666;\n",
              "  }\n",
              "\n",
              "  .colab-df-quickchart {\n",
              "    background-color: var(--bg-color);\n",
              "    border: none;\n",
              "    border-radius: 50%;\n",
              "    cursor: pointer;\n",
              "    display: none;\n",
              "    fill: var(--fill-color);\n",
              "    height: 32px;\n",
              "    padding: 0;\n",
              "    width: 32px;\n",
              "  }\n",
              "\n",
              "  .colab-df-quickchart:hover {\n",
              "    background-color: var(--hover-bg-color);\n",
              "    box-shadow: 0 1px 2px rgba(60, 64, 67, 0.3), 0 1px 3px 1px rgba(60, 64, 67, 0.15);\n",
              "    fill: var(--button-hover-fill-color);\n",
              "  }\n",
              "\n",
              "  .colab-df-quickchart-complete:disabled,\n",
              "  .colab-df-quickchart-complete:disabled:hover {\n",
              "    background-color: var(--disabled-bg-color);\n",
              "    fill: var(--disabled-fill-color);\n",
              "    box-shadow: none;\n",
              "  }\n",
              "\n",
              "  .colab-df-spinner {\n",
              "    border: 2px solid var(--fill-color);\n",
              "    border-color: transparent;\n",
              "    border-bottom-color: var(--fill-color);\n",
              "    animation:\n",
              "      spin 1s steps(1) infinite;\n",
              "  }\n",
              "\n",
              "  @keyframes spin {\n",
              "    0% {\n",
              "      border-color: transparent;\n",
              "      border-bottom-color: var(--fill-color);\n",
              "      border-left-color: var(--fill-color);\n",
              "    }\n",
              "    20% {\n",
              "      border-color: transparent;\n",
              "      border-left-color: var(--fill-color);\n",
              "      border-top-color: var(--fill-color);\n",
              "    }\n",
              "    30% {\n",
              "      border-color: transparent;\n",
              "      border-left-color: var(--fill-color);\n",
              "      border-top-color: var(--fill-color);\n",
              "      border-right-color: var(--fill-color);\n",
              "    }\n",
              "    40% {\n",
              "      border-color: transparent;\n",
              "      border-right-color: var(--fill-color);\n",
              "      border-top-color: var(--fill-color);\n",
              "    }\n",
              "    60% {\n",
              "      border-color: transparent;\n",
              "      border-right-color: var(--fill-color);\n",
              "    }\n",
              "    80% {\n",
              "      border-color: transparent;\n",
              "      border-right-color: var(--fill-color);\n",
              "      border-bottom-color: var(--fill-color);\n",
              "    }\n",
              "    90% {\n",
              "      border-color: transparent;\n",
              "      border-bottom-color: var(--fill-color);\n",
              "    }\n",
              "  }\n",
              "</style>\n",
              "\n",
              "  <script>\n",
              "    async function quickchart(key) {\n",
              "      const quickchartButtonEl =\n",
              "        document.querySelector('#' + key + ' button');\n",
              "      quickchartButtonEl.disabled = true;  // To prevent multiple clicks.\n",
              "      quickchartButtonEl.classList.add('colab-df-spinner');\n",
              "      try {\n",
              "        const charts = await google.colab.kernel.invokeFunction(\n",
              "            'suggestCharts', [key], {});\n",
              "      } catch (error) {\n",
              "        console.error('Error during call to suggestCharts:', error);\n",
              "      }\n",
              "      quickchartButtonEl.classList.remove('colab-df-spinner');\n",
              "      quickchartButtonEl.classList.add('colab-df-quickchart-complete');\n",
              "    }\n",
              "    (() => {\n",
              "      let quickchartButtonEl =\n",
              "        document.querySelector('#df-e8759cab-52c8-424d-92c7-739ab6ca9e16 button');\n",
              "      quickchartButtonEl.style.display =\n",
              "        google.colab.kernel.accessAllowed ? 'block' : 'none';\n",
              "    })();\n",
              "  </script>\n",
              "</div>\n",
              "\n",
              "  <div id=\"id_a2d21d31-7d3c-49f1-96c1-cb2b20a2baa8\">\n",
              "    <style>\n",
              "      .colab-df-generate {\n",
              "        background-color: #E8F0FE;\n",
              "        border: none;\n",
              "        border-radius: 50%;\n",
              "        cursor: pointer;\n",
              "        display: none;\n",
              "        fill: #1967D2;\n",
              "        height: 32px;\n",
              "        padding: 0 0 0 0;\n",
              "        width: 32px;\n",
              "      }\n",
              "\n",
              "      .colab-df-generate:hover {\n",
              "        background-color: #E2EBFA;\n",
              "        box-shadow: 0px 1px 2px rgba(60, 64, 67, 0.3), 0px 1px 3px 1px rgba(60, 64, 67, 0.15);\n",
              "        fill: #174EA6;\n",
              "      }\n",
              "\n",
              "      [theme=dark] .colab-df-generate {\n",
              "        background-color: #3B4455;\n",
              "        fill: #D2E3FC;\n",
              "      }\n",
              "\n",
              "      [theme=dark] .colab-df-generate:hover {\n",
              "        background-color: #434B5C;\n",
              "        box-shadow: 0px 1px 3px 1px rgba(0, 0, 0, 0.15);\n",
              "        filter: drop-shadow(0px 1px 2px rgba(0, 0, 0, 0.3));\n",
              "        fill: #FFFFFF;\n",
              "      }\n",
              "    </style>\n",
              "    <button class=\"colab-df-generate\" onclick=\"generateWithVariable('data')\"\n",
              "            title=\"Generate code using this dataframe.\"\n",
              "            style=\"display:none;\">\n",
              "\n",
              "  <svg xmlns=\"http://www.w3.org/2000/svg\" height=\"24px\"viewBox=\"0 0 24 24\"\n",
              "       width=\"24px\">\n",
              "    <path d=\"M7,19H8.4L18.45,9,17,7.55,7,17.6ZM5,21V16.75L18.45,3.32a2,2,0,0,1,2.83,0l1.4,1.43a1.91,1.91,0,0,1,.58,1.4,1.91,1.91,0,0,1-.58,1.4L9.25,21ZM18.45,9,17,7.55Zm-12,3A5.31,5.31,0,0,0,4.9,8.1,5.31,5.31,0,0,0,1,6.5,5.31,5.31,0,0,0,4.9,4.9,5.31,5.31,0,0,0,6.5,1,5.31,5.31,0,0,0,8.1,4.9,5.31,5.31,0,0,0,12,6.5,5.46,5.46,0,0,0,6.5,12Z\"/>\n",
              "  </svg>\n",
              "    </button>\n",
              "    <script>\n",
              "      (() => {\n",
              "      const buttonEl =\n",
              "        document.querySelector('#id_a2d21d31-7d3c-49f1-96c1-cb2b20a2baa8 button.colab-df-generate');\n",
              "      buttonEl.style.display =\n",
              "        google.colab.kernel.accessAllowed ? 'block' : 'none';\n",
              "\n",
              "      buttonEl.onclick = () => {\n",
              "        google.colab.notebook.generateWithVariable('data');\n",
              "      }\n",
              "      })();\n",
              "    </script>\n",
              "  </div>\n",
              "\n",
              "    </div>\n",
              "  </div>\n"
            ],
            "application/vnd.google.colaboratory.intrinsic+json": {
              "type": "dataframe",
              "variable_name": "data"
            }
          },
          "metadata": {}
        }
      ],
      "source": [
        "#display the data\n",
        "display(data)"
      ]
    },
    {
      "cell_type": "code",
      "execution_count": null,
      "id": "f64996ef-5b17-4186-9888-fdbf52261a0c",
      "metadata": {
        "id": "f64996ef-5b17-4186-9888-fdbf52261a0c"
      },
      "outputs": [],
      "source": [
        "#Filter the data for West Bengal (WB)\n",
        "WB_data = data[data[\"state_1\"] == \"WB\"]"
      ]
    },
    {
      "cell_type": "code",
      "execution_count": null,
      "id": "1473ffee-631c-41f4-b1cb-d4a4f15df34e",
      "metadata": {
        "colab": {
          "base_uri": "https://localhost:8080/"
        },
        "id": "1473ffee-631c-41f4-b1cb-d4a4f15df34e",
        "outputId": "a0a23f96-0832-4917-91bc-ccacc4ff2595"
      },
      "outputs": [
        {
          "output_type": "stream",
          "name": "stdout",
          "text": [
            "Missing values in each column:\n",
            "slno              0\n",
            "grp               0\n",
            "Round_Centre      0\n",
            "FSU_number        0\n",
            "Round             0\n",
            "                 ..\n",
            "foodtotal_q       0\n",
            "state_1           0\n",
            "Region            0\n",
            "fruits_df_tt_v    0\n",
            "fv_tot            0\n",
            "Length: 384, dtype: int64\n"
          ]
        }
      ],
      "source": [
        "#Check for missing values\n",
        "missing_values = WB_data.isna().sum()\n",
        "print(\"Missing values in each column:\")\n",
        "print(missing_values)"
      ]
    },
    {
      "cell_type": "code",
      "execution_count": null,
      "id": "6049b111-d824-4df3-afe8-2f8522176723",
      "metadata": {
        "id": "6049b111-d824-4df3-afe8-2f8522176723"
      },
      "outputs": [],
      "source": [
        "WB = WB_data[['state_1', 'District', 'Region', 'Sector', 'State_Region', 'Meals_At_Home', 'ricepds_v', 'Wheatpds_q', 'chicken_q', 'pulsep_q', 'wheatos_q', 'No_of_Meals_per_day']]"
      ]
    },
    {
      "cell_type": "code",
      "execution_count": null,
      "id": "e33732b1-85b9-4fde-910b-0e40573c9b92",
      "metadata": {
        "id": "e33732b1-85b9-4fde-910b-0e40573c9b92"
      },
      "outputs": [],
      "source": [
        "#impute missing values with mean\n",
        "def impute_with_mean(column):\n",
        "    if column.hasnans:\n",
        "        column.fillna(column.mean(), inplace=True)\n",
        "    return column"
      ]
    },
    {
      "cell_type": "code",
      "execution_count": null,
      "id": "d4df41fc-c738-4ced-8d5b-0d8a22224a10",
      "metadata": {
        "colab": {
          "base_uri": "https://localhost:8080/"
        },
        "id": "d4df41fc-c738-4ced-8d5b-0d8a22224a10",
        "outputId": "fa33e458-4b22-4b84-f65f-a671238bdcea"
      },
      "outputs": [
        {
          "output_type": "stream",
          "name": "stderr",
          "text": [
            "<ipython-input-12-6145f5b4cff1>:4: SettingWithCopyWarning: \n",
            "A value is trying to be set on a copy of a slice from a DataFrame\n",
            "\n",
            "See the caveats in the documentation: https://pandas.pydata.org/pandas-docs/stable/user_guide/indexing.html#returning-a-view-versus-a-copy\n",
            "  column.fillna(column.mean(), inplace=True)\n",
            "<ipython-input-13-9cc784c92b5a>:1: SettingWithCopyWarning: \n",
            "A value is trying to be set on a copy of a slice from a DataFrame.\n",
            "Try using .loc[row_indexer,col_indexer] = value instead\n",
            "\n",
            "See the caveats in the documentation: https://pandas.pydata.org/pandas-docs/stable/user_guide/indexing.html#returning-a-view-versus-a-copy\n",
            "  WB['Meals_At_Home'] = impute_with_mean(WB['Meals_At_Home'])\n"
          ]
        }
      ],
      "source": [
        "WB['Meals_At_Home'] = impute_with_mean(WB['Meals_At_Home'])"
      ]
    },
    {
      "cell_type": "code",
      "execution_count": null,
      "id": "9bbb863d-31f7-4051-a36f-dff4e2aa3724",
      "metadata": {
        "id": "9bbb863d-31f7-4051-a36f-dff4e2aa3724"
      },
      "outputs": [],
      "source": [
        "#removing outliers\n",
        "def remove_outliers(df, column_name):\n",
        "    Q1 = df[column_name].quantile(0.25)\n",
        "    Q3 = df[column_name].quantile(0.75)\n",
        "    IQR = Q3 - Q1\n",
        "    lower_threshold = Q1 - (1.5 * IQR)\n",
        "    upper_threshold = Q3 + (1.5 * IQR)\n",
        "    df = df[(df[column_name] >= lower_threshold) & (df[column_name] <= upper_threshold)]\n",
        "    return df\n",
        "\n",
        "outlier_columns = ['ricepds_v', 'chicken_q']\n",
        "for col in outlier_columns:\n",
        "    WB = remove_outliers(WB, col)"
      ]
    },
    {
      "cell_type": "code",
      "execution_count": null,
      "id": "a0ef800a-4c2d-4bd4-9729-c1d51dadce73",
      "metadata": {
        "id": "a0ef800a-4c2d-4bd4-9729-c1d51dadce73"
      },
      "outputs": [],
      "source": [
        "#total consumption\n",
        "WB['total_consumption'] = WB[['ricepds_v', 'Wheatpds_q', 'chicken_q', 'pulsep_q', 'wheatos_q']].sum(axis=1)"
      ]
    },
    {
      "cell_type": "code",
      "execution_count": null,
      "id": "a89dc7b6-61c2-4a0f-aa5b-bf0bc26a2fd7",
      "metadata": {
        "id": "a89dc7b6-61c2-4a0f-aa5b-bf0bc26a2fd7"
      },
      "outputs": [],
      "source": [
        "def summarize_consumption(group_col):\n",
        "    summary = WB.groupby(group_col)['total_consumption'].sum().reset_index()\n",
        "    summary.sort_values(by='total_consumption', ascending=False, inplace=True)\n",
        "    return summary"
      ]
    },
    {
      "cell_type": "code",
      "execution_count": null,
      "id": "b227fd45-d378-4c22-a39c-c03734141555",
      "metadata": {
        "id": "b227fd45-d378-4c22-a39c-c03734141555"
      },
      "outputs": [],
      "source": [
        "district_summary = summarize_consumption('District')\n",
        "region_summary = summarize_consumption('Region')"
      ]
    },
    {
      "cell_type": "code",
      "execution_count": null,
      "id": "9daec66b-1c8a-44bd-8a13-d08ff91c3a03",
      "metadata": {
        "colab": {
          "base_uri": "https://localhost:8080/"
        },
        "id": "9daec66b-1c8a-44bd-8a13-d08ff91c3a03",
        "outputId": "b62b84c4-bb90-4626-cad3-7cb5984ae993"
      },
      "outputs": [
        {
          "output_type": "stream",
          "name": "stdout",
          "text": [
            "Top Consuming Districts:\n",
            "    District  total_consumption\n",
            "10        11         538.476429\n",
            "16        17         413.168828\n",
            "15        16         343.602502\n",
            "17        18         130.354167\n",
            "Region Consumption Summary:\n",
            "   Region  total_consumption\n",
            "2     3.0        1081.999423\n",
            "3     4.0         508.351708\n",
            "1     2.0         457.891140\n",
            "0     1.0         168.240909\n",
            "4     5.0         106.387202\n"
          ]
        }
      ],
      "source": [
        "print(\"Top Consuming Districts:\")\n",
        "print(district_summary.head(4))\n",
        "print(\"Region Consumption Summary:\")\n",
        "print(region_summary)"
      ]
    },
    {
      "cell_type": "code",
      "execution_count": 25,
      "id": "3837a70e-e6b1-4eac-94f8-89246e919195",
      "metadata": {
        "id": "3837a70e-e6b1-4eac-94f8-89246e919195"
      },
      "outputs": [],
      "source": [
        "#Renaming districts and sectors\n",
        "district_mapping = {\"1\" : \"Darjiling\", \"2\" : \"Jalpaiguri\", \"3\" : \"Koch Bihar\", \"4\" : \"Uttar Dinajpur\", \"5\" : \"Dakshin Dinajpur *\", \"6\" : \"Maldah\", \"7\" : \"Murshidabad\", \"8\" : \"Birbhum\", \"9\" : \"Barddhaman\", \"10\" : \"Nadia\", \"11\" : \"North Twenty Four Parganas\", \"12\" : \"Hugli\", \"13\" : \"Bankura\", \"14\" : \"Puruliya\", \"15\" : \"Pashim Midnapur\", \"16\" : \"Haora\",\"17\" : \"Kolkata\", \"18\" : \"South  Twenty Four Parganas\", \"19\" : \"Purba Midnapur\"}\n",
        "sector_mapping = {\"1\": \"RURAL\", \"2\": \"URBAN\"}"
      ]
    },
    {
      "cell_type": "code",
      "execution_count": 26,
      "id": "95b98f3c-a152-4e6d-a9a2-2d19f880ed2d",
      "metadata": {
        "id": "95b98f3c-a152-4e6d-a9a2-2d19f880ed2d"
      },
      "outputs": [],
      "source": [
        "WB['District'] = WB['District'].astype(str)\n",
        "WB['Sector'] = WB['Sector'].astype(str)\n",
        "\n",
        "WB['District'] = WB['District'].map(district_mapping).fillna(WB['District'])\n",
        "WB['Sector'] = WB['Sector'].map(sector_mapping).fillna(WB['Sector'])"
      ]
    },
    {
      "cell_type": "code",
      "execution_count": 27,
      "id": "38f785cb-a3fc-40d1-bed5-dd8a7919ac4d",
      "metadata": {
        "id": "38f785cb-a3fc-40d1-bed5-dd8a7919ac4d",
        "outputId": "211ed5ec-63fe-4f57-d498-0f29b9fb8acb",
        "colab": {
          "base_uri": "https://localhost:8080/"
        }
      },
      "outputs": [
        {
          "output_type": "stream",
          "name": "stdout",
          "text": [
            "     state_1     District  Region Sector  State_Region  Meals_At_Home  \\\n",
            "6218      WB  Murshidabad     2.0  URBAN           192           90.0   \n",
            "6219      WB  Murshidabad     2.0  URBAN           192           60.0   \n",
            "6220      WB  Murshidabad     2.0  URBAN           192           60.0   \n",
            "6221      WB  Murshidabad     2.0  URBAN           192           60.0   \n",
            "6222      WB  Murshidabad     2.0  URBAN           192           90.0   \n",
            "\n",
            "      ricepds_v  Wheatpds_q  chicken_q  pulsep_q  wheatos_q  \\\n",
            "6218        0.0         0.0   0.750000  0.125000   3.500000   \n",
            "6219        0.0         0.0   0.214286  0.014286   2.285714   \n",
            "6220        0.0         0.0   0.000000  0.025000   1.250000   \n",
            "6221        0.0         0.0   0.000000  0.000000   1.666667   \n",
            "6222        0.0         0.0   0.000000  0.000000   3.866667   \n",
            "\n",
            "      No_of_Meals_per_day  total_consumption  \n",
            "6218                  3.0           4.375000  \n",
            "6219                  2.0           2.514286  \n",
            "6220                  2.0           1.275000  \n",
            "6221                  2.0           1.666667  \n",
            "6222                  3.0           3.866667  \n"
          ]
        }
      ],
      "source": [
        "print(WB.head())"
      ]
    },
    {
      "cell_type": "code",
      "execution_count": 28,
      "id": "58ccf845-4fe3-4346-8001-af30b10894b9",
      "metadata": {
        "id": "58ccf845-4fe3-4346-8001-af30b10894b9",
        "outputId": "96cd977e-ed6f-4fd7-9c86-438d8afd5ffc",
        "colab": {
          "base_uri": "https://localhost:8080/",
          "height": 472
        }
      },
      "outputs": [
        {
          "output_type": "display_data",
          "data": {
            "text/plain": [
              "<Figure size 640x480 with 1 Axes>"
            ],
            "image/png": "[encoded data removed]"
          },
          "metadata": {}
        }
      ],
      "source": [
        "plt.hist(WB['total_consumption'], bins=10, color='blue', edgecolor='black')\n",
        "plt.xlabel(\"Consumption\")\n",
        "plt.ylabel(\"Frequency\")\n",
        "plt.title(\"Consumption Distribution in WestBengal State\")\n",
        "plt.show()"
      ]
    },
    {
      "cell_type": "code",
      "execution_count": 30,
      "id": "eda54fa4-1baf-426e-8e73-1c83ff43c7db",
      "metadata": {
        "id": "eda54fa4-1baf-426e-8e73-1c83ff43c7db"
      },
      "outputs": [],
      "source": [
        "WB_consumption = WB.groupby('District')['total_consumption'].sum().reset_index()"
      ]
    },
    {
      "cell_type": "code",
      "execution_count": 31,
      "id": "8f2eac16-6d66-49b7-9d32-951942862bcc",
      "metadata": {
        "id": "8f2eac16-6d66-49b7-9d32-951942862bcc",
        "outputId": "8348fae1-ff12-4ff5-bda8-54455ecaeab6",
        "colab": {
          "base_uri": "https://localhost:8080/"
        }
      },
      "outputs": [
        {
          "output_type": "stream",
          "name": "stdout",
          "text": [
            "             District  total_consumption\n",
            "0             Bankura          22.789583\n",
            "1          Barddhaman          64.707183\n",
            "2             Birbhum          95.138889\n",
            "3  Dakshin Dinajpur *          43.978571\n",
            "4           Darjiling          74.724242\n"
          ]
        }
      ],
      "source": [
        "print(WB_consumption.head())"
      ]
    },
    {
      "cell_type": "code",
      "execution_count": 32,
      "id": "96c6fc15-5ce6-4e91-b3b4-53e43e987200",
      "metadata": {
        "id": "96c6fc15-5ce6-4e91-b3b4-53e43e987200",
        "outputId": "0c9c705c-40e2-46cf-c7c7-3a38b5b4ae71",
        "colab": {
          "base_uri": "https://localhost:8080/",
          "height": 658
        }
      },
      "outputs": [
        {
          "output_type": "display_data",
          "data": {
            "text/plain": [
              "<Figure size 640x480 with 1 Axes>"
            ],
            "image/png": "[encoded data removed]"
          },
          "metadata": {}
        }
      ],
      "source": [
        "plt.bar(WB_consumption['District'], WB_consumption['total_consumption'], color='blue', edgecolor='black')\n",
        "plt.xlabel(\"District\")\n",
        "plt.ylabel(\"Total Consumption\")\n",
        "plt.title(\"Total Consumption per District\")\n",
        "plt.xticks(rotation=90)  # Rotate district names for better visibility\n",
        "plt.show()"
      ]
    },
    {
      "cell_type": "code",
      "execution_count": 33,
      "id": "a635323c-5f06-4fc9-96b5-a185d9ff31f0",
      "metadata": {
        "id": "a635323c-5f06-4fc9-96b5-a185d9ff31f0"
      },
      "outputs": [],
      "source": [
        "#west bengal's shape file based on total consumption per district\n",
        "data_map = gpd.read_file(\"/content/WEST BENGAL_DISTRICTS.geojson\")"
      ]
    },
    {
      "cell_type": "code",
      "source": [
        "print(data_map.columns)\n",
        "print(WB_consumption.columns)"
      ],
      "metadata": {
        "colab": {
          "base_uri": "https://localhost:8080/"
        },
        "id": "FNU1oNjgurf1",
        "outputId": "61b22502-675b-4a2a-9472-dc5d6135a6ce"
      },
      "id": "FNU1oNjgurf1",
      "execution_count": 59,
      "outputs": [
        {
          "output_type": "stream",
          "name": "stdout",
          "text": [
            "Index(['District', 'stname', 'stcode11', 'dtcode11', 'year_stat',\n",
            "       'Shape_Length', 'Shape_Area', 'OBJECTID', 'test', 'Dist_LGD',\n",
            "       'State_LGD', 'geometry'],\n",
            "      dtype='object')\n",
            "Index(['slno', 'grp', 'Round_Centre', 'FSU_number', 'Round', 'Schedule_Number',\n",
            "       'Sample', 'Sector', 'state', 'State_Region',\n",
            "       ...\n",
            "       'pickle_v', 'sauce_jam_v', 'Othrprocessed_v', 'Beveragestotal_v',\n",
            "       'foodtotal_v', 'foodtotal_q', 'state_1', 'Region', 'fruits_df_tt_v',\n",
            "       'fv_tot'],\n",
            "      dtype='object', length=384)\n"
          ]
        }
      ]
    },
    {
      "cell_type": "code",
      "source": [
        "data_map_data = data_map.merge(WB_consumption, left_on='dtname', right_on='District')"
      ],
      "metadata": {
        "id": "PKqoevpf2eby"
      },
      "id": "PKqoevpf2eby",
      "execution_count": 99,
      "outputs": []
    },
    {
      "cell_type": "code",
      "source": [
        "data_map['District'] = WB_consumption['District']"
      ],
      "metadata": {
        "id": "-E-JiDkPyOQ-"
      },
      "id": "-E-JiDkPyOQ-",
      "execution_count": 100,
      "outputs": []
    },
    {
      "cell_type": "code",
      "source": [
        "print(data_map.columns)"
      ],
      "metadata": {
        "colab": {
          "base_uri": "https://localhost:8080/"
        },
        "id": "zlSToGU3yaoK",
        "outputId": "57dc88b0-b407-49a4-bdcd-34f0699490a8"
      },
      "id": "zlSToGU3yaoK",
      "execution_count": 101,
      "outputs": [
        {
          "output_type": "stream",
          "name": "stdout",
          "text": [
            "Index(['dtname', 'total_consumption', 'stcode11', 'dtcode11', 'year_stat',\n",
            "       'Shape_Length', 'Shape_Area', 'OBJECTID', 'test', 'Dist_LGD',\n",
            "       'State_LGD', 'geometry', 'District'],\n",
            "      dtype='object')\n"
          ]
        }
      ]
    },
    {
      "cell_type": "code",
      "source": [
        "import geopandas as gpd\n",
        "import pandas as pd\n",
        "import matplotlib.pyplot as plt"
      ],
      "metadata": {
        "id": "IpA6rWZLzaiP"
      },
      "id": "IpA6rWZLzaiP",
      "execution_count": 102,
      "outputs": []
    },
    {
      "cell_type": "code",
      "source": [
        "data_map = gpd.read_file(\"/content/WEST BENGAL_DISTRICTS.geojson\")"
      ],
      "metadata": {
        "id": "60J9TSTVzfuY"
      },
      "id": "60J9TSTVzfuY",
      "execution_count": 103,
      "outputs": []
    },
    {
      "cell_type": "code",
      "source": [
        "data_map = data_map.rename(columns={'dtname': 'District'})"
      ],
      "metadata": {
        "id": "R7hcIyHZzknJ"
      },
      "id": "R7hcIyHZzknJ",
      "execution_count": 104,
      "outputs": []
    },
    {
      "cell_type": "code",
      "source": [
        "display(data_map.rename)"
      ],
      "metadata": {
        "colab": {
          "base_uri": "https://localhost:8080/",
          "height": 221
        },
        "id": "IohuFcK2zoOH",
        "outputId": "09b34696-791c-4e4b-f0a2-c1f6e217e16f"
      },
      "id": "IohuFcK2zoOH",
      "execution_count": 105,
      "outputs": [
        {
          "output_type": "display_data",
          "data": {
            "text/plain": [
              "<bound method DataFrame.rename of                      District       stname stcode11 dtcode11 year_stat  \\\n",
              "0   South Twenty Four Pargan*  WEST BENGAL       19      343    2011_c   \n",
              "1                   Darjiling  WEST BENGAL       19      327    2011_c   \n",
              "2                  Jalpaiguri  WEST BENGAL       19      328    2011_c   \n",
              "3            Dakshin Dinajpur  WEST BENGAL       19      331    2011_c   \n",
              "4                      Maldah  WEST BENGAL       19      332    2011_c   \n",
              "5                 Murshidabad  WEST BENGAL       19      333    2011_c   \n",
              "6                     Birbhum  WEST BENGAL       19      334    2011_c   \n",
              "7                       Nadia  WEST BENGAL       19      336    2011_c   \n",
              "8             Purba Bardhaman  WEST BENGAL       19      335    2011_c   \n",
              "9                    Puruliya  WEST BENGAL       19      340    2011_c   \n",
              "10                    Bankura  WEST BENGAL       19      339    2011_c   \n",
              "11  North Twenty Four Pargan*  WEST BENGAL       19      337    2011_c   \n",
              "12                    Hooghly  WEST BENGAL       19      338    2011_c   \n",
              "13             Medinipur West  WEST BENGAL       19      344    2011_c   \n",
              "14                     Howrah  WEST BENGAL       19      341    2011_c   \n",
              "15                    Kolkata  WEST BENGAL       19      342    2011_c   \n",
              "16            Purba Medinipur  WEST BENGAL       19      345    2011_c   \n",
              "17                 Alipurduar  WEST BENGAL       19      774    2014_c   \n",
              "18          Paschim Bardhaman  WEST BENGAL       19      777    2017_c   \n",
              "19                  Kalimpong  WEST BENGAL       19      775    2017_c   \n",
              "20                   Jhargram  WEST BENGAL       19      776    2017_c   \n",
              "21                Cooch Behar  WEST BENGAL       19      329    2011_c   \n",
              "22             Uttar Dinajpur  WEST BENGAL       19      330    2011_c   \n",
              "\n",
              "    Shape_Length    Shape_Area  OBJECTID  test  Dist_LGD  State_LGD  \\\n",
              "0   2.860637e+06  8.796820e+09       165     0       304         19   \n",
              "1   3.711838e+05  2.563482e+09       265     0       309         19   \n",
              "2   5.019763e+05  4.274422e+09       273     0       314         19   \n",
              "3   4.310810e+05  2.751830e+09       347     1       310         19   \n",
              "4   5.314818e+05  4.398954e+09       348     1       316         19   \n",
              "5   6.540053e+05  6.591378e+09       384     1       319         19   \n",
              "6   7.437208e+05  5.465723e+09       396     1       307         19   \n",
              "7   7.606131e+05  4.670038e+09       413     1       320         19   \n",
              "8   6.322263e+05  6.449898e+09       426     0       306         19   \n",
              "9   6.497435e+05  7.437097e+09       434     0       321         19   \n",
              "10  5.563543e+05  8.187904e+09       437     0       305         19   \n",
              "11  6.380735e+05  4.734497e+09       446     0       303         19   \n",
              "12  5.587373e+05  3.714099e+09       448     0       312         19   \n",
              "13  6.177002e+05  7.377313e+09       458     0       318         19   \n",
              "14  2.767141e+05  1.706318e+09       463     0       313         19   \n",
              "15  6.971643e+04  1.161811e+08       467     0       315         19   \n",
              "16  4.421171e+05  4.637089e+09       470     0       317         19   \n",
              "17  3.749512e+05  3.455633e+09       570     0       664         19   \n",
              "18  2.831539e+05  1.923796e+09       571     0       704         19   \n",
              "19  1.938661e+05  1.372158e+09       572     0       702         19   \n",
              "20  5.375262e+05  3.637798e+09       573     0       703         19   \n",
              "21  1.047307e+06  4.225582e+09       575     0       308         19   \n",
              "22  8.048877e+05  3.848814e+09       576     0       311         19   \n",
              "\n",
              "                                             geometry  \n",
              "0   MULTIPOLYGON (((88.05099 21.50899, 88.05210 21...  \n",
              "1   POLYGON ((88.04002 27.22062, 88.03649 27.22107...  \n",
              "2   POLYGON ((88.92027 26.99427, 88.91728 26.99809...  \n",
              "3   POLYGON ((88.40204 25.60814, 88.40201 25.60814...  \n",
              "4   POLYGON ((87.95961 25.53857, 87.95916 25.53873...  \n",
              "5   POLYGON ((87.89765 24.85942, 87.89720 24.86047...  \n",
              "6   POLYGON ((87.79303 24.58363, 87.79204 24.58400...  \n",
              "7   POLYGON ((88.72420 24.10433, 88.72259 24.10476...  \n",
              "8   POLYGON ((88.00906 23.84558, 88.00804 23.84564...  \n",
              "9   POLYGON ((86.80536 23.69619, 86.80479 23.69649...  \n",
              "10  POLYGON ((86.90230 23.63939, 86.90230 23.63939...  \n",
              "11  POLYGON ((88.81102 23.25586, 88.81077 23.25587...  \n",
              "12  POLYGON ((88.45897 23.22335, 88.45839 23.22344...  \n",
              "13  POLYGON ((87.35739 22.95444, 87.35739 22.95444...  \n",
              "14  POLYGON ((87.98106 22.78135, 87.98059 22.78138...  \n",
              "15  POLYGON ((88.37182 22.63281, 88.37124 22.63294...  \n",
              "16  POLYGON ((88.01476 22.20262, 88.01477 22.20282...  \n",
              "17  POLYGON ((89.37481 26.85408, 89.36969 26.85727...  \n",
              "18  POLYGON ((86.91627 23.88269, 86.91567 23.88322...  \n",
              "19  POLYGON ((88.59712 27.18825, 88.59576 27.18933...  \n",
              "20  POLYGON ((86.61062 22.79869, 86.60881 22.79887...  \n",
              "21  MULTIPOLYGON (((89.49546 25.93471, 89.49642 25...  \n",
              "22  MULTIPOLYGON (((88.27427 26.33083, 88.27493 26...  >"
            ],
            "text/html": [
              "<div style=\"max-width:800px; border: 1px solid var(--colab-border-color);\"><style>\n",
              "      pre.function-repr-contents {\n",
              "        overflow-x: auto;\n",
              "        padding: 8px 12px;\n",
              "        max-height: 500px;\n",
              "      }\n",
              "\n",
              "      pre.function-repr-contents.function-repr-contents-collapsed {\n",
              "        cursor: pointer;\n",
              "        max-height: 100px;\n",
              "      }\n",
              "    </style>\n",
              "    <pre style=\"white-space: initial; background:\n",
              "         var(--colab-secondary-surface-color); padding: 8px 12px;\n",
              "         border-bottom: 1px solid var(--colab-border-color);\"><b>pandas.core.frame.DataFrame.rename</b><br/>def rename(mapper: Renamer | None=None, *, index: Renamer | None=None, columns: Renamer | None=None, axis: Axis | None=None, copy: bool | None=None, inplace: bool=False, level: Level=None, errors: IgnoreRaise=&#x27;ignore&#x27;) -&gt; DataFrame | None</pre><pre class=\"function-repr-contents function-repr-contents-collapsed\" style=\"\"><a class=\"filepath\" style=\"display:none\" href=\"#\">/usr/local/lib/python3.10/dist-packages/pandas/core/frame.py</a>Rename columns or index labels.\n",
              "\n",
              "Function / dict values must be unique (1-to-1). Labels not contained in\n",
              "a dict / Series will be left as-is. Extra labels listed don&#x27;t throw an\n",
              "error.\n",
              "\n",
              "See the :ref:`user guide &lt;basics.rename&gt;` for more.\n",
              "\n",
              "Parameters\n",
              "----------\n",
              "mapper : dict-like or function\n",
              "    Dict-like or function transformations to apply to\n",
              "    that axis&#x27; values. Use either ``mapper`` and ``axis`` to\n",
              "    specify the axis to target with ``mapper``, or ``index`` and\n",
              "    ``columns``.\n",
              "index : dict-like or function\n",
              "    Alternative to specifying axis (``mapper, axis=0``\n",
              "    is equivalent to ``index=mapper``).\n",
              "columns : dict-like or function\n",
              "    Alternative to specifying axis (``mapper, axis=1``\n",
              "    is equivalent to ``columns=mapper``).\n",
              "axis : {0 or &#x27;index&#x27;, 1 or &#x27;columns&#x27;}, default 0\n",
              "    Axis to target with ``mapper``. Can be either the axis name\n",
              "    (&#x27;index&#x27;, &#x27;columns&#x27;) or number (0, 1). The default is &#x27;index&#x27;.\n",
              "copy : bool, default True\n",
              "    Also copy underlying data.\n",
              "inplace : bool, default False\n",
              "    Whether to modify the DataFrame rather than creating a new one.\n",
              "    If True then value of copy is ignored.\n",
              "level : int or level name, default None\n",
              "    In case of a MultiIndex, only rename labels in the specified\n",
              "    level.\n",
              "errors : {&#x27;ignore&#x27;, &#x27;raise&#x27;}, default &#x27;ignore&#x27;\n",
              "    If &#x27;raise&#x27;, raise a `KeyError` when a dict-like `mapper`, `index`,\n",
              "    or `columns` contains labels that are not present in the Index\n",
              "    being transformed.\n",
              "    If &#x27;ignore&#x27;, existing keys will be renamed and extra keys will be\n",
              "    ignored.\n",
              "\n",
              "Returns\n",
              "-------\n",
              "DataFrame or None\n",
              "    DataFrame with the renamed axis labels or None if ``inplace=True``.\n",
              "\n",
              "Raises\n",
              "------\n",
              "KeyError\n",
              "    If any of the labels is not found in the selected axis and\n",
              "    &quot;errors=&#x27;raise&#x27;&quot;.\n",
              "\n",
              "See Also\n",
              "--------\n",
              "DataFrame.rename_axis : Set the name of the axis.\n",
              "\n",
              "Examples\n",
              "--------\n",
              "``DataFrame.rename`` supports two calling conventions\n",
              "\n",
              "* ``(index=index_mapper, columns=columns_mapper, ...)``\n",
              "* ``(mapper, axis={&#x27;index&#x27;, &#x27;columns&#x27;}, ...)``\n",
              "\n",
              "We *highly* recommend using keyword arguments to clarify your\n",
              "intent.\n",
              "\n",
              "Rename columns using a mapping:\n",
              "\n",
              "&gt;&gt;&gt; df = pd.DataFrame({&quot;A&quot;: [1, 2, 3], &quot;B&quot;: [4, 5, 6]})\n",
              "&gt;&gt;&gt; df.rename(columns={&quot;A&quot;: &quot;a&quot;, &quot;B&quot;: &quot;c&quot;})\n",
              "   a  c\n",
              "0  1  4\n",
              "1  2  5\n",
              "2  3  6\n",
              "\n",
              "Rename index using a mapping:\n",
              "\n",
              "&gt;&gt;&gt; df.rename(index={0: &quot;x&quot;, 1: &quot;y&quot;, 2: &quot;z&quot;})\n",
              "   A  B\n",
              "x  1  4\n",
              "y  2  5\n",
              "z  3  6\n",
              "\n",
              "Cast index labels to a different type:\n",
              "\n",
              "&gt;&gt;&gt; df.index\n",
              "RangeIndex(start=0, stop=3, step=1)\n",
              "&gt;&gt;&gt; df.rename(index=str).index\n",
              "Index([&#x27;0&#x27;, &#x27;1&#x27;, &#x27;2&#x27;], dtype=&#x27;object&#x27;)\n",
              "\n",
              "&gt;&gt;&gt; df.rename(columns={&quot;A&quot;: &quot;a&quot;, &quot;B&quot;: &quot;b&quot;, &quot;C&quot;: &quot;c&quot;}, errors=&quot;raise&quot;)\n",
              "Traceback (most recent call last):\n",
              "KeyError: [&#x27;C&#x27;] not found in axis\n",
              "\n",
              "Using axis-style parameters:\n",
              "\n",
              "&gt;&gt;&gt; df.rename(str.lower, axis=&#x27;columns&#x27;)\n",
              "   a  b\n",
              "0  1  4\n",
              "1  2  5\n",
              "2  3  6\n",
              "\n",
              "&gt;&gt;&gt; df.rename({1: 2, 2: 4}, axis=&#x27;index&#x27;)\n",
              "   A  B\n",
              "0  1  4\n",
              "2  2  5\n",
              "4  3  6</pre>\n",
              "      <script>\n",
              "      if (google.colab.kernel.accessAllowed && google.colab.files && google.colab.files.view) {\n",
              "        for (const element of document.querySelectorAll('.filepath')) {\n",
              "          element.style.display = 'block'\n",
              "          element.onclick = (event) => {\n",
              "            event.preventDefault();\n",
              "            event.stopPropagation();\n",
              "            google.colab.files.view(element.textContent, 5313);\n",
              "          };\n",
              "        }\n",
              "      }\n",
              "      for (const element of document.querySelectorAll('.function-repr-contents')) {\n",
              "        element.onclick = (event) => {\n",
              "          event.preventDefault();\n",
              "          event.stopPropagation();\n",
              "          element.classList.toggle('function-repr-contents-collapsed');\n",
              "        };\n",
              "      }\n",
              "      </script>\n",
              "      </div>"
            ]
          },
          "metadata": {}
        }
      ]
    },
    {
      "cell_type": "code",
      "source": [
        "WB_consumption = pd.read_csv(\"/content/NSSO_68.csv\", low_memory=False)"
      ],
      "metadata": {
        "id": "2GMXrBGQzrFv"
      },
      "id": "2GMXrBGQzrFv",
      "execution_count": 106,
      "outputs": []
    },
    {
      "cell_type": "code",
      "source": [
        "WB_consumption = WB.groupby('District')['total_consumption'].sum().reset_index()"
      ],
      "metadata": {
        "id": "uq_Iwuc1z4JC"
      },
      "id": "uq_Iwuc1z4JC",
      "execution_count": 107,
      "outputs": []
    },
    {
      "cell_type": "code",
      "source": [
        "print(WB_consumption.head())"
      ],
      "metadata": {
        "colab": {
          "base_uri": "https://localhost:8080/"
        },
        "id": "700tX1R6z-eI",
        "outputId": "4fe13146-a992-4b1c-caa0-b2640faec20e"
      },
      "id": "700tX1R6z-eI",
      "execution_count": 108,
      "outputs": [
        {
          "output_type": "stream",
          "name": "stdout",
          "text": [
            "             District  total_consumption\n",
            "0             Bankura          22.789583\n",
            "1          Barddhaman          64.707183\n",
            "2             Birbhum          95.138889\n",
            "3  Dakshin Dinajpur *          43.978571\n",
            "4           Darjiling          74.724242\n"
          ]
        }
      ]
    },
    {
      "cell_type": "code",
      "source": [
        "data_map = gpd.read_file(\"/content/WEST BENGAL_DISTRICTS.geojson\")\n",
        "data_map = data_map.rename(columns={'dtname': 'total_consumption'})"
      ],
      "metadata": {
        "id": "S1yBropq0B6R"
      },
      "id": "S1yBropq0B6R",
      "execution_count": 109,
      "outputs": []
    },
    {
      "cell_type": "code",
      "source": [
        "fig, ax = plt.subplots(1, 1)\n",
        "data_map.plot(column='total_consumption', cmap='viridis', legend=True, ax=ax)\n",
        "ax.set_title('Total Consumption by District in West Bengal')\n",
        "plt.show()"
      ],
      "metadata": {
        "colab": {
          "base_uri": "https://localhost:8080/",
          "height": 552
        },
        "id": "CBRoq4ac0NKF",
        "outputId": "6805e38b-56ec-46f9-e104-bae1bb4377d1"
      },
      "id": "CBRoq4ac0NKF",
      "execution_count": 110,
      "outputs": [
        {
          "output_type": "display_data",
          "data": {
            "text/plain": [
              "<Figure size 640x480 with 1 Axes>"
            ],
            "image/png": "[encoded data removed]"
          },
          "metadata": {}
        }
      ]
    },
    {
      "cell_type": "code",
      "source": [],
      "metadata": {
        "id": "F6bwy2Iu0Qsj"
      },
      "id": "F6bwy2Iu0Qsj",
      "execution_count": null,
      "outputs": []
    }
  ],
  "metadata": {
    "kernelspec": {
      "display_name": "Python 3 (ipykernel)",
      "language": "python",
      "name": "python3"
    },
    "language_info": {
      "codemirror_mode": {
        "name": "ipython",
        "version": 3
      },
      "file_extension": ".py",
      "mimetype": "text/x-python",
      "name": "python",
      "nbconvert_exporter": "python",
      "pygments_lexer": "ipython3",
      "version": "3.12.4"
    },
    "colab": {
      "provenance": []
    }
  },
  "nbformat": 4,
  "nbformat_minor": 5
}